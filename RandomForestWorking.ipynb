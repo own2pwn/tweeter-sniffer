{
 "cells": [
  {
   "cell_type": "code",
   "execution_count": 281,
   "metadata": {
    "collapsed": false
   },
   "outputs": [],
   "source": [
    "import matplotlib.pyplot as plt\n",
    "\n",
    "from sklearn import svm\n",
    "\n",
    "#import \"sample.json\" as myData\n",
    "# Import `PCA()`\n",
    "from sklearn.decomposition import PCA\n",
    "# Import `train_test_split`\n",
    "#from sklearn.cross_validation import train_test_split\n",
    "\n",
    "import pandas\n",
    "tweet = pandas.read_json(\"sampleBig.json\")\n",
    "#print(tweet)\n",
    "\n",
    "trainLow  = 0\n",
    "trainHigh = 800\n",
    "testLow   = 801\n",
    "testHigh  = 960\n",
    "\n",
    "featureCount = 5000\n",
    "numberOfTrees = 100"
   ]
  },
  {
   "cell_type": "code",
   "execution_count": 282,
   "metadata": {
    "collapsed": false
   },
   "outputs": [
    {
     "name": "stdout",
     "output_type": "stream",
     "text": [
      "(965, 2)\n",
      "Georgia State sets physical tone in spring game https://t.co/bD3JoCHGPC\n",
      "Done\n"
     ]
    }
   ],
   "source": [
    "print(tweet.shape)\n",
    "print(tweet[1][0][1])\n",
    "\n",
    "print(\"Done\")"
   ]
  },
  {
   "cell_type": "code",
   "execution_count": 283,
   "metadata": {
    "collapsed": false
   },
   "outputs": [
    {
     "name": "stdout",
     "output_type": "stream",
     "text": [
      "Creating the bag of words...\n",
      "Done\n"
     ]
    }
   ],
   "source": [
    "\n",
    "print( \"Creating the bag of words...\")\n",
    "from sklearn.feature_extraction.text import CountVectorizer\n",
    "\n",
    "# Initialize the \"CountVectorizer\" object, which is scikit-learn's\n",
    "# bag of words tool.  \n",
    "vectorizer = CountVectorizer(strip_accents= \"ascii\", \\\n",
    "                             analyzer     = \"word\",  \\\n",
    "                         #    ngram_range  = (3,12) , \\\n",
    "                             tokenizer    = None,    \\\n",
    "                             preprocessor = None,    \\\n",
    "                             stop_words   = None,    \\\n",
    "                             max_features = featureCount,    \\\n",
    "                         #    stop_words   = \"engilsh\",\\\n",
    "                             lowercase    = True   \\\n",
    "                            ) \n",
    "\n",
    "print(\"Done\")"
   ]
  },
  {
   "cell_type": "code",
   "execution_count": null,
   "metadata": {
    "collapsed": false,
    "scrolled": false
   },
   "outputs": [],
   "source": []
  },
  {
   "cell_type": "code",
   "execution_count": 284,
   "metadata": {
    "collapsed": false
   },
   "outputs": [
    {
     "name": "stdout",
     "output_type": "stream",
     "text": [
      "Fit and transform to array\n",
      "\n",
      "(960, 5000)\n",
      "\n",
      "Done\n"
     ]
    }
   ],
   "source": [
    "\n",
    "# fit_transform() does two functions: First, it fits the model\n",
    "# and learns the vocabulary; second, it transforms our training data\n",
    "# into feature vectors. The input to fit_transform should be a list of \n",
    "# strings.\n",
    "print(\"Fit and transform to array\\n\")\n",
    "\n",
    "joinedTweets = list()\n",
    "for i in range(trainLow, testHigh):\n",
    "    joinedTweets.append(\" \".join(tweet[1][i]))\n",
    "\n",
    "train_data_features = vectorizer.fit_transform(joinedTweets)\n",
    "\n",
    "# Numpy arrays are easy to work with, so convert the result to an \n",
    "# array\n",
    "train_data_features = train_data_features.toarray()\n",
    "\n",
    "\n",
    "print (train_data_features.shape)\n",
    "#print (train_data_features)\n",
    "\n",
    "print(\"\\nDone\")\n"
   ]
  },
  {
   "cell_type": "code",
   "execution_count": 285,
   "metadata": {
    "collapsed": false
   },
   "outputs": [
    {
     "name": "stdout",
     "output_type": "stream",
     "text": [
      "Wait until previous if finished\n"
     ]
    }
   ],
   "source": [
    "print(\"Wait until previous if finished\")"
   ]
  },
  {
   "cell_type": "code",
   "execution_count": 286,
   "metadata": {
    "collapsed": false
   },
   "outputs": [
    {
     "name": "stdout",
     "output_type": "stream",
     "text": [
      "\n",
      "Done\n"
     ]
    }
   ],
   "source": [
    "# Take a look at the words in the vocabulary\n",
    "vocab = vectorizer.get_feature_names()\n",
    "#print(vocab)\n",
    "\n",
    "print(\"\\nDone\")"
   ]
  },
  {
   "cell_type": "code",
   "execution_count": 287,
   "metadata": {
    "collapsed": false
   },
   "outputs": [
    {
     "name": "stdout",
     "output_type": "stream",
     "text": [
      "Done\n"
     ]
    }
   ],
   "source": [
    "import numpy as np\n",
    "\n",
    "# Sum up the counts of each vocabulary word\n",
    "dist = np.sum(train_data_features, axis=0)\n",
    "\n",
    "# For each, print the vocabulary word and the number of times it \n",
    "# appears in the training set\n",
    "\n",
    "#for tag, count in zip(vocab, dist):\n",
    "#    print(count, tag)\n",
    "\n",
    "print(\"Done\")"
   ]
  },
  {
   "cell_type": "code",
   "execution_count": 288,
   "metadata": {
    "collapsed": true
   },
   "outputs": [],
   "source": [
    "# changes number of trees for testing without rerunning feature changing\n",
    "numberOfTrees = numberOfTrees"
   ]
  },
  {
   "cell_type": "code",
   "execution_count": 289,
   "metadata": {
    "collapsed": false
   },
   "outputs": [
    {
     "name": "stdout",
     "output_type": "stream",
     "text": [
      "Training the random forest...\n",
      "User Range:  0 - 800\n",
      "Done\n"
     ]
    }
   ],
   "source": [
    "print(\"Training the random forest...\")\n",
    "print(\"User Range: \", trainLow,\"-\", trainHigh)\n",
    "from sklearn.ensemble import RandomForestClassifier\n",
    "\n",
    "# Initialize a Random Forest classifier with 100 trees\n",
    "forest = RandomForestClassifier(n_estimators = numberOfTrees) \n",
    "\n",
    "# Fit the forest to the training set, using the bag of words as \n",
    "# features and the sentiment labels as the response variable\n",
    "#\n",
    "# This may take a few minutes to run\n",
    "forest = forest.fit(train_data_features[trainLow:trainHigh], tweet[0][trainLow:trainHigh])\n",
    "\n",
    "print(\"Done\")"
   ]
  },
  {
   "cell_type": "code",
   "execution_count": 290,
   "metadata": {
    "collapsed": false
   },
   "outputs": [
    {
     "name": "stdout",
     "output_type": "stream",
     "text": [
      "Testing from Model\n",
      "Done\n"
     ]
    }
   ],
   "source": [
    "print(\"Testing from Model\")\n",
    "result = forest.predict(train_data_features[testLow:testHigh])\n",
    "\n",
    "#print(tweet[0][testLow:testHigh])\n",
    "#print (\"Result on User \", testLow, \"-\", testHigh , \" is \", result)\n",
    "print(\"Done\")"
   ]
  },
  {
   "cell_type": "code",
   "execution_count": 291,
   "metadata": {
    "collapsed": false,
    "scrolled": true
   },
   "outputs": [
    {
     "name": "stdout",
     "output_type": "stream",
     "text": [
      "Results output from Random Forest Computaions\n",
      "Number of trees:     100\n",
      "Number of features:  5000\n",
      "Hit Rate: 0.551\n",
      "error:    0.449\n"
     ]
    }
   ],
   "source": [
    "print(\"Results output from Random Forest Computaions\")\n",
    "i   = 0\n",
    "hit = 0\n",
    "thisLimit = testHigh-testLow\n",
    "for i in range(0, thisLimit) :\n",
    "    if (tweet[0][(testLow+i)] == result[i]):\n",
    "        hit = hit + 1\n",
    "hitRate = (hit/i)\n",
    "print(\"Number of trees:    \", numberOfTrees)\n",
    "print(\"Number of features: \", featureCount) \n",
    "print(\"Hit Rate: {:.3f}\".format(hitRate))\n",
    "print(\"error:    {:.3f}\".format(1-hitRate))"
   ]
  },
  {
   "cell_type": "code",
   "execution_count": null,
   "metadata": {
    "collapsed": true
   },
   "outputs": [],
   "source": []
  },
  {
   "cell_type": "code",
   "execution_count": null,
   "metadata": {
    "collapsed": true
   },
   "outputs": [],
   "source": [
    "NOTHING BELOW THIS IS COMPLETED OR IMPLIMENTED"
   ]
  },
  {
   "cell_type": "code",
   "execution_count": null,
   "metadata": {
    "collapsed": true
   },
   "outputs": [],
   "source": []
  },
  {
   "cell_type": "code",
   "execution_count": null,
   "metadata": {
    "collapsed": true
   },
   "outputs": [],
   "source": [
    "# Read the test data\n",
    "test = pd.read_csv(\"testData.tsv\", header=0, delimiter=\"\\t\", \\\n",
    "                   quoting=3 )\n",
    "\n",
    "# Verify that there are 25,000 rows and 2 columns\n",
    "print test.shape\n",
    "\n",
    "# Create an empty list and append the clean reviews one by one\n",
    "num_reviews = len(test[\"review\"])\n",
    "clean_test_reviews = [] \n",
    "\n",
    "print \"Cleaning and parsing the test set movie reviews...\\n\"\n",
    "for i in xrange(0,num_reviews):\n",
    "    if( (i+1) % 1000 == 0 ):\n",
    "        print \"Review %d of %d\\n\" % (i+1, num_reviews)\n",
    "    clean_review = review_to_words( test[\"review\"][i] )\n",
    "    clean_test_reviews.append( clean_review )\n",
    "\n",
    "# Get a bag of words for the test set, and convert to a numpy array\n",
    "test_data_features = vectorizer.transform(clean_test_reviews)\n",
    "test_data_features = test_data_features.toarray()\n",
    "\n",
    "# Use the random forest to make sentiment label predictions\n",
    "result = forest.predict(test_data_features)\n",
    "\n",
    "# Copy the results to a pandas dataframe with an \"id\" column and\n",
    "# a \"sentiment\" column\n",
    "output = pd.DataFrame( data={\"id\":test[\"id\"], \"sentiment\":result} )\n",
    "\n",
    "# Use pandas to write the comma-separated output file\n",
    "output.to_csv( \"Bag_of_Words_model.csv\", index=False, quoting=3 )"
   ]
  },
  {
   "cell_type": "code",
   "execution_count": null,
   "metadata": {
    "collapsed": true
   },
   "outputs": [],
   "source": []
  },
  {
   "cell_type": "code",
   "execution_count": null,
   "metadata": {
    "collapsed": true
   },
   "outputs": [],
   "source": []
  },
  {
   "cell_type": "code",
   "execution_count": null,
   "metadata": {
    "collapsed": true
   },
   "outputs": [],
   "source": [
    "\n",
    "\n",
    "\n",
    "# Split the `digits` data into two equal sets\n",
    "X_train, X_test, y_train, y_test = train_test_split(tweet[1], tweet[0], test_size=0.5, random_state=0)\n",
    "\n",
    "# Import GridSearchCV\n",
    "from sklearn.grid_search import GridSearchCV\n",
    "\n",
    "# Set the parameter candidates\n",
    "parameter_candidates = [\n",
    "  {'C': [1, 10, 100, 1000], 'kernel': ['linear']},\n",
    "  {'C': [1, 10, 100, 1000], 'gamma': [0.001, 0.0001], 'kernel': ['rbf']},\n",
    "]\n",
    "\n",
    "# Create a classifier with the parameter candidates\n",
    "clf = GridSearchCV(estimator=svm.SVC(), param_grid=parameter_candidates, n_jobs=-1)\n",
    "\n",
    "# Train the classifier on training data\n",
    "clf.fit(X_train, y_train)\n",
    "\n",
    "# Print out the results \n",
    "# print('Best score for training data:', clf.best_score_)\n",
    "# print('Best `C`:',clf.best_estimator_.C)\n",
    "# print('Best kernel:',clf.best_estimator_.kernel)\n",
    "# print('Best `gamma`:',clf.best_estimator_.gamma)\n",
    "\n",
    "print(\"Done\")"
   ]
  },
  {
   "cell_type": "code",
   "execution_count": null,
   "metadata": {
    "collapsed": true
   },
   "outputs": [],
   "source": [
    "\n",
    "#################\n",
    "\n",
    "## Create the SVC model \n",
    "##svc_model = svm.SVC(gamma=0.001, C=100., kernel='linear')\n",
    "\n",
    "## Fit the data to the SVC model\n",
    "##svc_model.fit(X_train, y_train)\n",
    "\n",
    "\n",
    "\n",
    "\n",
    "# print(len(tweet))\n",
    "\n",
    " \n",
    "\n",
    "print tweet.keys() \t#prints the dataset\n",
    "print tweet.shape\n",
    "\n",
    "myData = tweet[1]\n",
    "print myData.shape\n",
    "print myData\n",
    "#####################################\n",
    "\n",
    "\n"
   ]
  },
  {
   "cell_type": "code",
   "execution_count": null,
   "metadata": {
    "collapsed": true
   },
   "outputs": [],
   "source": [
    "\n",
    "# Create a Randomized PCA model that takes two components\n",
    "randomized_pca = RandomizedPCA(n_components=1)\n",
    "\n",
    "# Fit and transform the data to the model\n",
    "reduced_data_rpca = randomized_pca.fit_transform(myData)\n",
    "\n",
    "# Create a regular PCA model \n",
    "pca = PCA(n_components=1)\n",
    "\n",
    "# Fit and transform the data to the model\n",
    "reduced_data_pca = pca.fit_transform(myData)\n",
    "\n",
    "# Inspect the shape\n",
    "reduced_data_pca.shape\n",
    "\n",
    "# Print out the data\n",
    "print(reduced_data_rpca)\n",
    "print(reduced_data_pca)\n",
    "\n",
    "\n",
    "colors = ['black', 'blue', 'purple', 'yellow', 'white', 'red', 'lime', 'cyan', 'orange', 'gray']\n",
    "for i in range(len(colors)):\n",
    "    x = reduced_data_rpca[:, 0][tweet[0] == i]\n",
    "    y = reduced_data_rpca[:, 1][tweet[0] == i]\n",
    "    plt.scatter(x, y, c=colors[i])\n",
    "plt.legend(\"testing\" , bbox_to_anchor=(1.05, 1), loc=2, borderaxespad=0.)\n",
    "plt.xlabel('First Principal Component')\n",
    "plt.ylabel('Second Principal Component')\n",
    "plt.title(\"PCA Scatter Plot\")\n",
    "plt.show()\n",
    "\n",
    "\n",
    "\n",
    "\n"
   ]
  },
  {
   "cell_type": "code",
   "execution_count": 3,
   "metadata": {
    "collapsed": true
   },
   "outputs": [],
   "source": [
    "\n",
    "\n",
    "\n",
    "\n",
    "###############################\n",
    "# import pandas\n",
    "# tweet = pandas.read_json(\"sample.json\")\n",
    "# print(tweet.columns)\n",
    "# print(tweet.shape)\n",
    "\n",
    "# plt.hist(tweet[0])\n",
    "# plt.show()\n",
    "\n",
    "\n",
    "\n",
    "\n",
    "# from sklearn import datasets\n",
    "# digit = datasets.load_digits()\n",
    "# clf = svm.SVC(gamma=0.001, C=100)\n",
    "# print \"length:\", (len(digit.data))\n",
    "# x,y = digit.data[:-10], digit.target[:-10]\n",
    "# clf.fit(x,y)\n",
    "# print('prediction:',clf.predict(digit.data[-2]))\n",
    "# plt.imshow(digit.images[-2], cmap=plt.cm.gray_r, interpolation=\"nearest\")\n",
    "# plt.show()\n",
    "\n"
   ]
  },
  {
   "cell_type": "code",
   "execution_count": null,
   "metadata": {
    "collapsed": true
   },
   "outputs": [],
   "source": []
  },
  {
   "cell_type": "code",
   "execution_count": null,
   "metadata": {
    "collapsed": true
   },
   "outputs": [],
   "source": []
  },
  {
   "cell_type": "code",
   "execution_count": null,
   "metadata": {
    "collapsed": true
   },
   "outputs": [],
   "source": []
  },
  {
   "cell_type": "code",
   "execution_count": null,
   "metadata": {
    "collapsed": true
   },
   "outputs": [],
   "source": []
  }
 ],
 "metadata": {
  "kernelspec": {
   "display_name": "Python 3",
   "language": "python",
   "name": "python3"
  },
  "language_info": {
   "codemirror_mode": {
    "name": "ipython",
    "version": 3
   },
   "file_extension": ".py",
   "mimetype": "text/x-python",
   "name": "python",
   "nbconvert_exporter": "python",
   "pygments_lexer": "ipython3",
   "version": "3.6.0"
  }
 },
 "nbformat": 4,
 "nbformat_minor": 2
}
